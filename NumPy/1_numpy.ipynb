import numpy as np

arr = np.array(([1,2,3,4],[9,7,6,5]))
print(arr)
# print(np.__version__)
# print(type(arr))