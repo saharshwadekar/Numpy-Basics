{
 "cells": [
  {
   "cell_type": "code",
   "execution_count": 1,
   "id": "493f97c7",
   "metadata": {},
   "outputs": [
    {
     "name": "stdout",
     "output_type": "stream",
     "text": [
      "4\n"
     ]
    }
   ],
   "source": [
    "from numpy import random as rd\n",
    "x = rd.randint(100)\n",
    "print(x)"
   ]
  },
  {
   "cell_type": "code",
   "execution_count": 2,
   "id": "d9d27e8b",
   "metadata": {},
   "outputs": [
    {
     "name": "stdout",
     "output_type": "stream",
     "text": [
      "0.14512974506191856\n"
     ]
    }
   ],
   "source": [
    "from numpy import random as rd\n",
    "x = rd.rand()    # returns float in range 0 to 1\n",
    "print(x)"
   ]
  },
  {
   "cell_type": "code",
   "execution_count": 3,
   "id": "39d68590",
   "metadata": {},
   "outputs": [
    {
     "name": "stdout",
     "output_type": "stream",
     "text": [
      "[24 91 46 12 85]\n"
     ]
    }
   ],
   "source": [
    "from numpy import random as rd\n",
    "\n",
    "x =  rd.randint(100, size=(5))  # generate an random list/array of size 5\n",
    "print(x) "
   ]
  },
  {
   "cell_type": "code",
   "execution_count": 4,
   "id": "0461044a",
   "metadata": {},
   "outputs": [
    {
     "name": "stdout",
     "output_type": "stream",
     "text": [
      "[[29 25]\n",
      " [86 42]\n",
      " [38 17]]\n"
     ]
    }
   ],
   "source": [
    "from numpy import random as rd\n",
    "x = rd.randint(100, size=(3,2)) # 2D array\n",
    "print(x) "
   ]
  },
  {
   "cell_type": "code",
   "execution_count": 5,
   "id": "be7bfbd2",
   "metadata": {},
   "outputs": [
    {
     "name": "stdout",
     "output_type": "stream",
     "text": [
      "[[[0.16965235 0.5195048 ]\n",
      "  [0.04434205 0.17445799]]\n",
      "\n",
      " [[0.42402503 0.89775812]\n",
      "  [0.30333702 0.87704791]]]\n"
     ]
    }
   ],
   "source": [
    "from numpy import random as rd\n",
    "x = rd.rand(2,2,2)  #float array of size 5\n",
    "print(x)"
   ]
  },
  {
   "cell_type": "code",
   "execution_count": 6,
   "id": "0f4833c5",
   "metadata": {},
   "outputs": [
    {
     "name": "stdout",
     "output_type": "stream",
     "text": [
      "4\n"
     ]
    }
   ],
   "source": [
    "from numpy import random as rd\n",
    "x = rd.choice([2,3,4,5])\n",
    "print(x)"
   ]
  },
  {
   "cell_type": "code",
   "execution_count": 7,
   "id": "fc7bb488",
   "metadata": {},
   "outputs": [
    {
     "name": "stdout",
     "output_type": "stream",
     "text": [
      "[[5 3]\n",
      " [4 3]\n",
      " [3 2]]\n"
     ]
    }
   ],
   "source": [
    "from numpy import random as rd\n",
    "x = rd.choice([2,3,4,5], size = (3,2))\n",
    "print(x)"
   ]
  },
  {
   "cell_type": "code",
   "execution_count": null,
   "id": "f67f89bc",
   "metadata": {},
   "outputs": [],
   "source": []
  }
 ],
 "metadata": {
  "kernelspec": {
   "display_name": "Python 3 (ipykernel)",
   "language": "python",
   "name": "python3"
  },
  "language_info": {
   "codemirror_mode": {
    "name": "ipython",
    "version": 3
   },
   "file_extension": ".py",
   "mimetype": "text/x-python",
   "name": "python",
   "nbconvert_exporter": "python",
   "pygments_lexer": "ipython3",
   "version": "3.10.2"
  }
 },
 "nbformat": 4,
 "nbformat_minor": 5
}
