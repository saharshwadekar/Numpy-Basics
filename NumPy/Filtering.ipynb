{
 "cells": [
  {
   "cell_type": "code",
   "execution_count": 2,
   "id": "8bf2669f",
   "metadata": {},
   "outputs": [
    {
     "name": "stdout",
     "output_type": "stream",
     "text": [
      "[1 3]\n"
     ]
    }
   ],
   "source": [
    "import numpy as np\n",
    "arr = np.array([1,2,3,4])\n",
    "x = [True,False,True,False]\n",
    "newarr = arr[x]\n",
    "print(newarr)"
   ]
  },
  {
   "cell_type": "code",
   "execution_count": 5,
   "id": "b575dc38",
   "metadata": {},
   "outputs": [
    {
     "name": "stdout",
     "output_type": "stream",
     "text": [
      "[45 23 67 76 32 29]\n",
      "[23 29 32 45 67 76]\n"
     ]
    }
   ],
   "source": [
    "import numpy as np\n",
    "arr = np.array([1,12,45,23,67,12,76,32,5,29])\n",
    "filter_arr = []\n",
    "[filter_arr.append(True) if elem > 15 else filter_arr.append(False) for elem in arr]\n",
    "newarr = arr[filter_arr]\n",
    "print(newarr)\n",
    "newarr.sort()\n",
    "print(newarr)"
   ]
  },
  {
   "cell_type": "code",
   "execution_count": 9,
   "id": "91d77c85",
   "metadata": {},
   "outputs": [
    {
     "name": "stdout",
     "output_type": "stream",
     "text": [
      "[45 23 67 76 32 29]\n",
      "[23 29 32 45 67 76]\n"
     ]
    }
   ],
   "source": [
    "#instead of above code we can write it as\n",
    "import numpy as np\n",
    "arr = np.array([1,12,45,23,67,12,76,32,5,29])\n",
    "filter_arr = arr > 15\n",
    "newarr = arr[filter_arr]\n",
    "print(newarr)\n",
    "newarr.sort()\n",
    "print(newarr)"
   ]
  },
  {
   "cell_type": "code",
   "execution_count": 10,
   "id": "0296c2c0",
   "metadata": {},
   "outputs": [
    {
     "name": "stdout",
     "output_type": "stream",
     "text": [
      "[12 12 76 32]\n",
      "[12 12 32 76]\n"
     ]
    }
   ],
   "source": [
    "import numpy as np\n",
    "arr = np.array([1,12,45,23,67,12,76,32,5,29])\n",
    "filter_arr = arr%2 == 0\n",
    "newarr = arr[filter_arr]\n",
    "print(newarr)\n",
    "newarr.sort()\n",
    "print(newarr)"
   ]
  },
  {
   "cell_type": "code",
   "execution_count": null,
   "id": "536d3c3e",
   "metadata": {},
   "outputs": [],
   "source": []
  }
 ],
 "metadata": {
  "kernelspec": {
   "display_name": "Python 3 (ipykernel)",
   "language": "python",
   "name": "python3"
  },
  "language_info": {
   "codemirror_mode": {
    "name": "ipython",
    "version": 3
   },
   "file_extension": ".py",
   "mimetype": "text/x-python",
   "name": "python",
   "nbconvert_exporter": "python",
   "pygments_lexer": "ipython3",
   "version": "3.10.2"
  }
 },
 "nbformat": 4,
 "nbformat_minor": 5
}
